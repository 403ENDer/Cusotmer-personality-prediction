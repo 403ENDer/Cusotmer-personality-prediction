{
 "cells": [
  {
   "cell_type": "code",
   "execution_count": 1,
   "metadata": {},
   "outputs": [],
   "source": [
    "import pandas as pd\n",
    "import os"
   ]
  },
  {
   "cell_type": "markdown",
   "metadata": {},
   "source": [
    "# Product Intrest prediction"
   ]
  },
  {
   "cell_type": "code",
   "execution_count": 2,
   "metadata": {},
   "outputs": [
    {
     "data": {
      "text/html": [
       "<div>\n",
       "<style scoped>\n",
       "    .dataframe tbody tr th:only-of-type {\n",
       "        vertical-align: middle;\n",
       "    }\n",
       "\n",
       "    .dataframe tbody tr th {\n",
       "        vertical-align: top;\n",
       "    }\n",
       "\n",
       "    .dataframe thead th {\n",
       "        text-align: right;\n",
       "    }\n",
       "</style>\n",
       "<table border=\"1\" class=\"dataframe\">\n",
       "  <thead>\n",
       "    <tr style=\"text-align: right;\">\n",
       "      <th></th>\n",
       "      <th>MntWines</th>\n",
       "      <th>MntFruits</th>\n",
       "      <th>MntMeatProducts</th>\n",
       "      <th>MntFishProducts</th>\n",
       "      <th>MntSweetProducts</th>\n",
       "      <th>MntGoldProds</th>\n",
       "      <th>Group</th>\n",
       "    </tr>\n",
       "  </thead>\n",
       "  <tbody>\n",
       "    <tr>\n",
       "      <th>0</th>\n",
       "      <td>635.0</td>\n",
       "      <td>88.0</td>\n",
       "      <td>546.0</td>\n",
       "      <td>172.0</td>\n",
       "      <td>88.0</td>\n",
       "      <td>88.0</td>\n",
       "      <td>3</td>\n",
       "    </tr>\n",
       "    <tr>\n",
       "      <th>1</th>\n",
       "      <td>11.0</td>\n",
       "      <td>1.0</td>\n",
       "      <td>6.0</td>\n",
       "      <td>2.0</td>\n",
       "      <td>1.0</td>\n",
       "      <td>6.0</td>\n",
       "      <td>1</td>\n",
       "    </tr>\n",
       "    <tr>\n",
       "      <th>2</th>\n",
       "      <td>426.0</td>\n",
       "      <td>49.0</td>\n",
       "      <td>127.0</td>\n",
       "      <td>111.0</td>\n",
       "      <td>21.0</td>\n",
       "      <td>42.0</td>\n",
       "      <td>2</td>\n",
       "    </tr>\n",
       "    <tr>\n",
       "      <th>3</th>\n",
       "      <td>11.0</td>\n",
       "      <td>4.0</td>\n",
       "      <td>20.0</td>\n",
       "      <td>10.0</td>\n",
       "      <td>3.0</td>\n",
       "      <td>5.0</td>\n",
       "      <td>1</td>\n",
       "    </tr>\n",
       "    <tr>\n",
       "      <th>4</th>\n",
       "      <td>173.0</td>\n",
       "      <td>43.0</td>\n",
       "      <td>118.0</td>\n",
       "      <td>46.0</td>\n",
       "      <td>27.0</td>\n",
       "      <td>15.0</td>\n",
       "      <td>1</td>\n",
       "    </tr>\n",
       "  </tbody>\n",
       "</table>\n",
       "</div>"
      ],
      "text/plain": [
       "   MntWines  MntFruits  MntMeatProducts  MntFishProducts  MntSweetProducts  \\\n",
       "0     635.0       88.0            546.0            172.0              88.0   \n",
       "1      11.0        1.0              6.0              2.0               1.0   \n",
       "2     426.0       49.0            127.0            111.0              21.0   \n",
       "3      11.0        4.0             20.0             10.0               3.0   \n",
       "4     173.0       43.0            118.0             46.0              27.0   \n",
       "\n",
       "   MntGoldProds  Group  \n",
       "0          88.0      3  \n",
       "1           6.0      1  \n",
       "2          42.0      2  \n",
       "3           5.0      1  \n",
       "4          15.0      1  "
      ]
     },
     "execution_count": 2,
     "metadata": {},
     "output_type": "execute_result"
    }
   ],
   "source": [
    "# Navigate to project folder\n",
    "project_folder = os.path.dirname(os.getcwd())\n",
    "\n",
    "#Moving to data folder\n",
    "data_folder = os.path.join(project_folder, 'data')\n",
    "csv_file_path = os.path.join(data_folder, 'product_intrest.csv')\n",
    "\n",
    "#Data readin\n",
    "df = pd.read_csv(csv_file_path)\n",
    "df.head()"
   ]
  },
  {
   "cell_type": "code",
   "execution_count": 3,
   "metadata": {},
   "outputs": [
    {
     "name": "stdout",
     "output_type": "stream",
     "text": [
      "Shape of Samples\n",
      "=================\n",
      "X train : (1754, 6)\n",
      "X test : (439, 6)\n",
      "y train : (1754,)\n",
      "y test : (439,)\n"
     ]
    }
   ],
   "source": [
    "#Testing different model and find the model which is best fit for this data\n",
    "from sklearn.ensemble import RandomForestClassifier\n",
    "from sklearn.metrics import classification_report , accuracy_score , confusion_matrix\n",
    "from sklearn.model_selection import train_test_split\n",
    "\n",
    "x_train, x_test, y_train , y_test = train_test_split(df.drop('Group' , axis= 1) , df['Group'] , test_size= 0.2)\n",
    "\n",
    "print(\"Shape of Samples\\n=================\")\n",
    "print(f'X train : {x_train.shape}')\n",
    "print(f'X test : {x_test.shape}')\n",
    "print(f'y train : {y_train.shape}')\n",
    "print(f'y test : {y_test.shape}')"
   ]
  },
  {
   "cell_type": "code",
   "execution_count": 4,
   "metadata": {},
   "outputs": [
    {
     "name": "stdout",
     "output_type": "stream",
     "text": [
      "\t\tRandom Forest Model Result\n",
      "========================================================\n",
      "\t\tAccuracy:0.9658314350797267\n",
      "---------------------------------------------------------\n",
      "Classification Report:\n",
      "              precision    recall  f1-score   support\n",
      "\n",
      "           0       1.00      0.95      0.97        39\n",
      "           1       0.99      1.00      0.99       263\n",
      "           2       0.94      0.88      0.91        74\n",
      "           3       0.88      0.95      0.92        63\n",
      "\n",
      "    accuracy                           0.97       439\n",
      "   macro avg       0.95      0.94      0.95       439\n",
      "weighted avg       0.97      0.97      0.97       439\n",
      "\n",
      "---------------------------------------------------------\n",
      "Confusion Matrix:\n",
      "[[ 37   1   1   0]\n",
      " [  0 262   1   0]\n",
      " [  0   1  65   8]\n",
      " [  0   1   2  60]]\n",
      "========================================================\n"
     ]
    }
   ],
   "source": [
    "model = RandomForestClassifier(random_state=42)\n",
    "model.fit(x_train,y_train)\n",
    "\n",
    "predict = model.predict(x_test)\n",
    "print(\"\\t\\tRandom Forest Model Result\\n========================================================\")\n",
    "print(f'\\t\\tAccuracy:{accuracy_score(y_test , predict)}')\n",
    "print(\"---------------------------------------------------------\")\n",
    "print('Classification Report:')\n",
    "print(classification_report(y_test , predict))\n",
    "print(\"---------------------------------------------------------\")\n",
    "print('Confusion Matrix:')\n",
    "print(confusion_matrix(y_test , predict))\n",
    "print(\"========================================================\")"
   ]
  },
  {
   "cell_type": "code",
   "execution_count": 5,
   "metadata": {},
   "outputs": [
    {
     "name": "stdout",
     "output_type": "stream",
     "text": [
      "\t\tDecision tree Model Result\n",
      "========================================================\n",
      "\t\tAccuracy:0.9384965831435079\n",
      "---------------------------------------------------------\n",
      "Classification Report:\n",
      "              precision    recall  f1-score   support\n",
      "\n",
      "           0       0.97      0.85      0.90        39\n",
      "           1       0.98      0.98      0.98       263\n",
      "           2       0.84      0.88      0.86        74\n",
      "           3       0.85      0.89      0.87        63\n",
      "\n",
      "    accuracy                           0.94       439\n",
      "   macro avg       0.91      0.90      0.90       439\n",
      "weighted avg       0.94      0.94      0.94       439\n",
      "\n",
      "---------------------------------------------------------\n",
      "Confusion Matrix:\n",
      "[[ 33   1   5   0]\n",
      " [  0 258   3   2]\n",
      " [  0   1  65   8]\n",
      " [  1   2   4  56]]\n",
      "========================================================\n"
     ]
    }
   ],
   "source": [
    "from sklearn.tree import DecisionTreeClassifier\n",
    "model_1 = DecisionTreeClassifier(random_state=42)\n",
    "model_1.fit(x_train,y_train)\n",
    "\n",
    "predict = model_1.predict(x_test)\n",
    "print(\"\\t\\tDecision tree Model Result\\n========================================================\")\n",
    "print(f'\\t\\tAccuracy:{accuracy_score(y_test , predict)}')\n",
    "print(\"---------------------------------------------------------\")\n",
    "print('Classification Report:')\n",
    "print(classification_report(y_test , predict))\n",
    "print(\"---------------------------------------------------------\")\n",
    "print('Confusion Matrix:')\n",
    "print(confusion_matrix(y_test , predict))\n",
    "print(\"========================================================\")"
   ]
  },
  {
   "cell_type": "code",
   "execution_count": 6,
   "metadata": {},
   "outputs": [
    {
     "name": "stdout",
     "output_type": "stream",
     "text": [
      "\t\t\tSVC Model Result\n",
      "========================================================\n",
      "\t\tAccuracy:0.9498861047835991\n",
      "---------------------------------------------------------\n",
      "Classification Report:\n",
      "              precision    recall  f1-score   support\n",
      "\n",
      "           0       1.00      0.79      0.89        39\n",
      "           1       0.98      0.99      0.99       263\n",
      "           2       0.85      0.93      0.89        74\n",
      "           3       0.90      0.90      0.90        63\n",
      "\n",
      "    accuracy                           0.95       439\n",
      "   macro avg       0.94      0.91      0.92       439\n",
      "weighted avg       0.95      0.95      0.95       439\n",
      "\n",
      "---------------------------------------------------------\n",
      "Confusion Matrix:\n",
      "[[ 31   2   5   1]\n",
      " [  0 260   3   0]\n",
      " [  0   0  69   5]\n",
      " [  0   2   4  57]]\n",
      "========================================================\n"
     ]
    }
   ],
   "source": [
    "from sklearn.svm import SVC\n",
    "model_2 = SVC(random_state=42)\n",
    "model_2.fit(x_train,y_train)\n",
    "\n",
    "predict = model_2.predict(x_test)\n",
    "print(\"\\t\\t\\tSVC Model Result\\n========================================================\")\n",
    "print(f'\\t\\tAccuracy:{accuracy_score(y_test , predict)}')\n",
    "print(\"---------------------------------------------------------\")\n",
    "print('Classification Report:')\n",
    "print(classification_report(y_test , predict))\n",
    "print(\"---------------------------------------------------------\")\n",
    "print('Confusion Matrix:')\n",
    "print(confusion_matrix(y_test , predict))\n",
    "print(\"========================================================\")"
   ]
  },
  {
   "cell_type": "markdown",
   "metadata": {},
   "source": [
    "In this test the Randomforest model is best fit for this data so we will save the model"
   ]
  },
  {
   "cell_type": "code",
   "execution_count": 7,
   "metadata": {},
   "outputs": [],
   "source": [
    "#Save the model\n",
    "import pickle\n",
    "pickle.dump(model , open('product_model.pkl' , 'wb'))"
   ]
  },
  {
   "cell_type": "markdown",
   "metadata": {},
   "source": [
    "# Purchase Behaviour prediction"
   ]
  },
  {
   "cell_type": "code",
   "execution_count": 8,
   "metadata": {},
   "outputs": [
    {
     "data": {
      "text/html": [
       "<div>\n",
       "<style scoped>\n",
       "    .dataframe tbody tr th:only-of-type {\n",
       "        vertical-align: middle;\n",
       "    }\n",
       "\n",
       "    .dataframe tbody tr th {\n",
       "        vertical-align: top;\n",
       "    }\n",
       "\n",
       "    .dataframe thead th {\n",
       "        text-align: right;\n",
       "    }\n",
       "</style>\n",
       "<table border=\"1\" class=\"dataframe\">\n",
       "  <thead>\n",
       "    <tr style=\"text-align: right;\">\n",
       "      <th></th>\n",
       "      <th>NumDealsPurchases</th>\n",
       "      <th>NumWebPurchases</th>\n",
       "      <th>NumCatalogPurchases</th>\n",
       "      <th>NumStorePurchases</th>\n",
       "      <th>NumWebVisitsMonth</th>\n",
       "      <th>Group</th>\n",
       "    </tr>\n",
       "  </thead>\n",
       "  <tbody>\n",
       "    <tr>\n",
       "      <th>0</th>\n",
       "      <td>3.0</td>\n",
       "      <td>8.0</td>\n",
       "      <td>10.0</td>\n",
       "      <td>4.0</td>\n",
       "      <td>7.0</td>\n",
       "      <td>2</td>\n",
       "    </tr>\n",
       "    <tr>\n",
       "      <th>1</th>\n",
       "      <td>2.0</td>\n",
       "      <td>1.0</td>\n",
       "      <td>1.0</td>\n",
       "      <td>2.0</td>\n",
       "      <td>5.0</td>\n",
       "      <td>1</td>\n",
       "    </tr>\n",
       "    <tr>\n",
       "      <th>2</th>\n",
       "      <td>1.0</td>\n",
       "      <td>8.0</td>\n",
       "      <td>2.0</td>\n",
       "      <td>10.0</td>\n",
       "      <td>4.0</td>\n",
       "      <td>0</td>\n",
       "    </tr>\n",
       "    <tr>\n",
       "      <th>3</th>\n",
       "      <td>2.0</td>\n",
       "      <td>2.0</td>\n",
       "      <td>0.0</td>\n",
       "      <td>4.0</td>\n",
       "      <td>6.0</td>\n",
       "      <td>1</td>\n",
       "    </tr>\n",
       "    <tr>\n",
       "      <th>4</th>\n",
       "      <td>5.0</td>\n",
       "      <td>5.0</td>\n",
       "      <td>3.0</td>\n",
       "      <td>6.0</td>\n",
       "      <td>5.0</td>\n",
       "      <td>2</td>\n",
       "    </tr>\n",
       "  </tbody>\n",
       "</table>\n",
       "</div>"
      ],
      "text/plain": [
       "   NumDealsPurchases  NumWebPurchases  NumCatalogPurchases  NumStorePurchases  \\\n",
       "0                3.0              8.0                 10.0                4.0   \n",
       "1                2.0              1.0                  1.0                2.0   \n",
       "2                1.0              8.0                  2.0               10.0   \n",
       "3                2.0              2.0                  0.0                4.0   \n",
       "4                5.0              5.0                  3.0                6.0   \n",
       "\n",
       "   NumWebVisitsMonth  Group  \n",
       "0                7.0      2  \n",
       "1                5.0      1  \n",
       "2                4.0      0  \n",
       "3                6.0      1  \n",
       "4                5.0      2  "
      ]
     },
     "execution_count": 8,
     "metadata": {},
     "output_type": "execute_result"
    }
   ],
   "source": [
    "csv_file_path = os.path.join(data_folder, 'purchase_behaviour.csv')\n",
    "\n",
    "#Data readin\n",
    "df = pd.read_csv(csv_file_path)\n",
    "df.head()"
   ]
  },
  {
   "cell_type": "code",
   "execution_count": 9,
   "metadata": {},
   "outputs": [
    {
     "name": "stdout",
     "output_type": "stream",
     "text": [
      "Shape of Samples\n",
      "=================\n",
      "X train : (1754, 5)\n",
      "X test : (439, 5)\n",
      "y train : (1754,)\n",
      "y test : (439,)\n"
     ]
    }
   ],
   "source": [
    "#Testing different model and find the model which is best fit for this data\n",
    "from sklearn.ensemble import RandomForestClassifier\n",
    "from sklearn.metrics import classification_report , accuracy_score , confusion_matrix\n",
    "from sklearn.model_selection import train_test_split\n",
    "\n",
    "x_train, x_test, y_train , y_test = train_test_split(df.drop('Group' , axis= 1) , df['Group'] , test_size= 0.2)\n",
    "\n",
    "print(\"Shape of Samples\\n=================\")\n",
    "print(f'X train : {x_train.shape}')\n",
    "print(f'X test : {x_test.shape}')\n",
    "print(f'y train : {y_train.shape}')\n",
    "print(f'y test : {y_test.shape}')"
   ]
  },
  {
   "cell_type": "code",
   "execution_count": 10,
   "metadata": {},
   "outputs": [
    {
     "name": "stdout",
     "output_type": "stream",
     "text": [
      "\t\tRandom Forest Model Result\n",
      "========================================================\n",
      "\t\tAccuracy:0.9703872437357631\n",
      "---------------------------------------------------------\n",
      "Classification Report:\n",
      "              precision    recall  f1-score   support\n",
      "\n",
      "           0       0.95      1.00      0.97       138\n",
      "           1       0.98      0.98      0.98       196\n",
      "           2       0.98      0.90      0.94       105\n",
      "\n",
      "    accuracy                           0.97       439\n",
      "   macro avg       0.97      0.96      0.97       439\n",
      "weighted avg       0.97      0.97      0.97       439\n",
      "\n",
      "---------------------------------------------------------\n",
      "Confusion Matrix:\n",
      "[[138   0   0]\n",
      " [  1 193   2]\n",
      " [  7   3  95]]\n",
      "========================================================\n"
     ]
    }
   ],
   "source": [
    "model = RandomForestClassifier(random_state=42)\n",
    "model.fit(x_train,y_train)\n",
    "\n",
    "predict = model.predict(x_test)\n",
    "print(\"\\t\\tRandom Forest Model Result\\n========================================================\")\n",
    "print(f'\\t\\tAccuracy:{accuracy_score(y_test , predict)}')\n",
    "print(\"---------------------------------------------------------\")\n",
    "print('Classification Report:')\n",
    "print(classification_report(y_test , predict))\n",
    "print(\"---------------------------------------------------------\")\n",
    "print('Confusion Matrix:')\n",
    "print(confusion_matrix(y_test , predict))\n",
    "print(\"========================================================\")"
   ]
  },
  {
   "cell_type": "code",
   "execution_count": 11,
   "metadata": {},
   "outputs": [
    {
     "name": "stdout",
     "output_type": "stream",
     "text": [
      "\t\tDecision Tree Model Result\n",
      "========================================================\n",
      "\t\tAccuracy:0.9567198177676538\n",
      "---------------------------------------------------------\n",
      "Classification Report:\n",
      "              precision    recall  f1-score   support\n",
      "\n",
      "           0       0.93      1.00      0.96       138\n",
      "           1       0.99      0.96      0.97       196\n",
      "           2       0.94      0.90      0.92       105\n",
      "\n",
      "    accuracy                           0.96       439\n",
      "   macro avg       0.95      0.95      0.95       439\n",
      "weighted avg       0.96      0.96      0.96       439\n",
      "\n",
      "---------------------------------------------------------\n",
      "Confusion Matrix:\n",
      "[[138   0   0]\n",
      " [  2 188   6]\n",
      " [  9   2  94]]\n",
      "========================================================\n"
     ]
    }
   ],
   "source": [
    "from sklearn.tree import DecisionTreeClassifier\n",
    "model_1 = DecisionTreeClassifier(random_state=42)\n",
    "model_1.fit(x_train,y_train)\n",
    "\n",
    "predict = model_1.predict(x_test)\n",
    "print(\"\\t\\tDecision Tree Model Result\\n========================================================\")\n",
    "print(f'\\t\\tAccuracy:{accuracy_score(y_test , predict)}')\n",
    "print(\"---------------------------------------------------------\")\n",
    "print('Classification Report:')\n",
    "print(classification_report(y_test , predict))\n",
    "print(\"---------------------------------------------------------\")\n",
    "print('Confusion Matrix:')\n",
    "print(confusion_matrix(y_test , predict))\n",
    "print(\"========================================================\")"
   ]
  },
  {
   "cell_type": "code",
   "execution_count": 12,
   "metadata": {},
   "outputs": [
    {
     "name": "stdout",
     "output_type": "stream",
     "text": [
      "\t\t\tSVC Model Result\n",
      "========================================================\n",
      "\t\tAccuracy:0.9817767653758542\n",
      "---------------------------------------------------------\n",
      "Classification Report:\n",
      "              precision    recall  f1-score   support\n",
      "\n",
      "           0       0.95      1.00      0.98       138\n",
      "           1       1.00      0.99      1.00       196\n",
      "           2       0.99      0.93      0.96       105\n",
      "\n",
      "    accuracy                           0.98       439\n",
      "   macro avg       0.98      0.98      0.98       439\n",
      "weighted avg       0.98      0.98      0.98       439\n",
      "\n",
      "---------------------------------------------------------\n",
      "Confusion Matrix:\n",
      "[[138   0   0]\n",
      " [  0 195   1]\n",
      " [  7   0  98]]\n",
      "========================================================\n"
     ]
    }
   ],
   "source": [
    "from sklearn.svm import SVC\n",
    "model_2 = SVC(random_state=42)\n",
    "model_2.fit(x_train,y_train)\n",
    "\n",
    "predict = model_2.predict(x_test)\n",
    "print(\"\\t\\t\\tSVC Model Result\\n========================================================\")\n",
    "print(f'\\t\\tAccuracy:{accuracy_score(y_test , predict)}')\n",
    "print(\"---------------------------------------------------------\")\n",
    "print('Classification Report:')\n",
    "print(classification_report(y_test , predict))\n",
    "print(\"---------------------------------------------------------\")\n",
    "print('Confusion Matrix:')\n",
    "print(confusion_matrix(y_test , predict))\n",
    "print(\"========================================================\")"
   ]
  },
  {
   "cell_type": "code",
   "execution_count": 13,
   "metadata": {},
   "outputs": [],
   "source": [
    "#Save the model\n",
    "import pickle\n",
    "pickle.dump(model_2 , open('purchase_model.pkl' , 'wb'))"
   ]
  }
 ],
 "metadata": {
  "kernelspec": {
   "display_name": "Python 3",
   "language": "python",
   "name": "python3"
  },
  "language_info": {
   "codemirror_mode": {
    "name": "ipython",
    "version": 3
   },
   "file_extension": ".py",
   "mimetype": "text/x-python",
   "name": "python",
   "nbconvert_exporter": "python",
   "pygments_lexer": "ipython3",
   "version": "3.11.5"
  }
 },
 "nbformat": 4,
 "nbformat_minor": 2
}
